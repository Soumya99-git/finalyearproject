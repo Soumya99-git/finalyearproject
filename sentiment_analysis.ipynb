{
 "cells": [
  {
   "cell_type": "code",
   "execution_count": 2,
   "id": "becoming-olympus",
   "metadata": {},
   "outputs": [],
   "source": [
    "import pandas as pd"
   ]
  },
  {
   "cell_type": "code",
   "execution_count": 3,
   "id": "daily-holocaust",
   "metadata": {},
   "outputs": [],
   "source": [
    "train_data = pd.read_csv(\"train.txt\",sep=';')"
   ]
  },
  {
   "cell_type": "code",
   "execution_count": 4,
   "id": "impressive-compatibility",
   "metadata": {},
   "outputs": [],
   "source": [
    "train_data.columns = ['sentence','emotions']"
   ]
  },
  {
   "cell_type": "code",
   "execution_count": 5,
   "id": "driving-bread",
   "metadata": {},
   "outputs": [
    {
     "output_type": "execute_result",
     "data": {
      "text/plain": [
       "array(['sadness', 'anger', 'love', 'surprise', 'fear', 'joy'],\n",
       "      dtype=object)"
      ]
     },
     "metadata": {},
     "execution_count": 5
    }
   ],
   "source": [
    "train_data.emotions.unique()"
   ]
  },
  {
   "cell_type": "code",
   "execution_count": 6,
   "id": "polar-petite",
   "metadata": {},
   "outputs": [],
   "source": [
    "import re\n",
    "import string\n",
    "\n",
    "def clean_text(text):\n",
    "    text = text.lower()\n",
    "    text = re.sub('\\[.*?\\]', '', text)\n",
    "    text = re.sub('[%s]' % re.escape(string.punctuation), '', text)\n",
    "    text = re.sub('\\w*\\d\\w*', '', text)\n",
    "    text = re.sub('[‘’“”…]', '', text)\n",
    "    text = re.sub(\"/n\",'',text)\n",
    "    return text"
   ]
  },
  {
   "cell_type": "code",
   "execution_count": 7,
   "id": "prepared-cotton",
   "metadata": {},
   "outputs": [],
   "source": [
    "for i in range(len(train_data)):\n",
    "    train_data.sentence[i] = clean_text(train_data.sentence[i])"
   ]
  },
  {
   "source": [
    "train_data\n",
    "X=train_data.sentence\n",
    "y=train_data.emotions"
   ],
   "cell_type": "code",
   "metadata": {},
   "execution_count": 12,
   "outputs": []
  },
  {
   "cell_type": "code",
   "execution_count": 13,
   "id": "timely-advocate",
   "metadata": {},
   "outputs": [],
   "source": [
    "from sklearn.feature_extraction.text import TfidfVectorizer\n",
    "from sklearn.ensemble import RandomForestClassifier\n",
    "tvec = TfidfVectorizer()\n",
    "clf2 = RandomForestClassifier()"
   ]
  },
  {
   "cell_type": "code",
   "execution_count": 14,
   "id": "variable-prayer",
   "metadata": {},
   "outputs": [],
   "source": [
    "from sklearn.pipeline import Pipeline"
   ]
  },
  {
   "cell_type": "code",
   "execution_count": 15,
   "id": "tribal-coffee",
   "metadata": {},
   "outputs": [
    {
     "output_type": "execute_result",
     "data": {
      "text/plain": [
       "Pipeline(steps=[('vectorizer', TfidfVectorizer()),\n",
       "                ('classifier', RandomForestClassifier())])"
      ]
     },
     "metadata": {},
     "execution_count": 15
    }
   ],
   "source": [
    "model = Pipeline([('vectorizer',tvec),('classifier',clf2)])\n",
    "model.fit(X,y)"
   ]
  },
  {
   "cell_type": "code",
   "execution_count": 20,
   "id": "whole-private",
   "metadata": {},
   "outputs": [],
   "source": [
    "test_data = pd.read_csv(\"test.txt\",sep=\";\")"
   ]
  },
  {
   "cell_type": "code",
   "execution_count": 21,
   "id": "mobile-meaning",
   "metadata": {},
   "outputs": [],
   "source": [
    "test_data.columns = ['sentence','emotions']"
   ]
  },
  {
   "cell_type": "code",
   "execution_count": 22,
   "id": "applicable-creation",
   "metadata": {},
   "outputs": [],
   "source": [
    "X_test = test_data.sentence\n",
    "y_test = test_data.emotions"
   ]
  },
  {
   "cell_type": "code",
   "execution_count": 23,
   "id": "metropolitan-muslim",
   "metadata": {},
   "outputs": [
    {
     "output_type": "execute_result",
     "data": {
      "text/plain": [
       "0.8695"
      ]
     },
     "metadata": {},
     "execution_count": 23
    }
   ],
   "source": [
    "model.score(X_test,y_test)"
   ]
  },
  {
   "cell_type": "code",
   "execution_count": 24,
   "id": "joint-production",
   "metadata": {},
   "outputs": [
    {
     "output_type": "execute_result",
     "data": {
      "text/plain": [
       "array(['joy'], dtype=object)"
      ]
     },
     "metadata": {},
     "execution_count": 24
    }
   ],
   "source": [
    "model.predict([\"Things change. And friends leave. Life doesn't stop for anybody.\"])"
   ]
  },
  {
   "cell_type": "code",
   "execution_count": 25,
   "id": "circular-disabled",
   "metadata": {},
   "outputs": [
    {
     "output_type": "execute_result",
     "data": {
      "text/plain": [
       "array(['sadness'], dtype=object)"
      ]
     },
     "metadata": {},
     "execution_count": 25
    }
   ],
   "source": [
    "model.predict([\"An individual experiencing sadness may become quiet or lethargic, and withdraw themselves from others\"])"
   ]
  },
  {
   "cell_type": "code",
   "execution_count": 32,
   "id": "atlantic-framing",
   "metadata": {},
   "outputs": [],
   "source": [
    "import pickle\n",
    "file = \"model.sav\"\n",
    "pickle.dump(model,open(file,\"wb\"))"
   ]
  },
  {
   "cell_type": "code",
   "execution_count": null,
   "metadata": {},
   "outputs": [],
   "source": []
  }
 ],
 "metadata": {
  "kernelspec": {
   "name": "python395jvsc74a57bd0e7370f93d1d0cde622a1f8e1c04877d8463912d04d973331ad4851f04de6915a",
   "display_name": "Python 3.9.5 64-bit"
  },
  "language_info": {
   "codemirror_mode": {
    "name": "ipython",
    "version": 3
   },
   "file_extension": ".py",
   "mimetype": "text/x-python",
   "name": "python",
   "nbconvert_exporter": "python",
   "pygments_lexer": "ipython3",
   "version": "3.9.5"
  },
  "metadata": {
   "interpreter": {
    "hash": "e7370f93d1d0cde622a1f8e1c04877d8463912d04d973331ad4851f04de6915a"
   }
  }
 },
 "nbformat": 4,
 "nbformat_minor": 5
}